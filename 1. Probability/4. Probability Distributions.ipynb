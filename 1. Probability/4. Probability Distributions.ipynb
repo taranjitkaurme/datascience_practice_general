{
 "cells": [
  {
   "cell_type": "code",
   "execution_count": null,
   "id": "a75c0cbe-a0fe-46d2-8452-b5aa227169a3",
   "metadata": {},
   "outputs": [],
   "source": []
  }
 ],
 "metadata": {
  "kernelspec": {
   "display_name": "Python 3 (ipykernel)",
   "language": "python",
   "name": "python3"
  },
  "language_info": {
   "codemirror_mode": {
    "name": "ipython",
    "version": 3
   },
   "file_extension": ".py",
   "mimetype": "text/x-python",
   "name": "python",
   "nbconvert_exporter": "python",
   "pygments_lexer": "ipython3",
   "version": "3.11.6"
  }
 },
 "nbformat": 4,
 "nbformat_minor": 5
}
