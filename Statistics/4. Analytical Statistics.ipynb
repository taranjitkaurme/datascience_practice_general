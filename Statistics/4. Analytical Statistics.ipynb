{
 "cells": [
  {
   "cell_type": "markdown",
   "id": "66ba90c2-936b-4ae0-a1d9-75399232517a",
   "metadata": {},
   "source": [
    "## Analytical Statistics"
   ]
  },
  {
   "cell_type": "markdown",
   "id": "13bec4c8-8dfe-4fbc-a90b-c928dd1f31be",
   "metadata": {},
   "source": [
    "### Association"
   ]
  },
  {
   "cell_type": "markdown",
   "id": "a9724b33-d8f6-4d59-a618-997ab33af839",
   "metadata": {},
   "source": [
    "In statistics, association refers to the relationship or connection between two variables. When two variables are associated, the presence or value of one variable can provide information about the presence or value of the other. Understanding association is crucial for analyzing data and making predictions. Here are key concepts related to association:\n",
    "\n",
    "1. **Positive Association:**\n",
    "   \n",
    "    **Definition:** When an increase in the value of one variable is associated with an increase in the value of another variable.\n",
    "\n",
    "    **Example:** As the number of hours spent studying increases, the exam scores also tend to increase.\n",
    "\n",
    "3. **Negative Association:**\n",
    "   \n",
    "    **Definition:** When an increase in the value of one variable is associated with a decrease in the value of another variable.\n",
    "    \n",
    "    **Example:** As the amount of rainfall increases, the number of wildfires in a region tends to decrease.\n",
    "\n",
    "4. **No Association (Independence):**\n",
    "   \n",
    "    **Definition:** When there is no systematic relationship between two variables. The occurrence or value of one variable does not provide information about the occurrence or value of the other.\n",
    "\n",
    "    **Example:** The gender of a person is generally not associated with their favorite color.\n",
    "\n",
    "5. **Strength of Association:**\n",
    "   \n",
    "    **Definition:** Describes how closely the two variables are related. It can be strong, moderate, or weak.\n",
    "\n",
    "    **Example:** A strong association might be observed if there is a clear pattern in the data, while a weak association suggests a less predictable relationship.\n",
    "\n",
    "6. **Linear vs. Nonlinear Association:**\n",
    "   \n",
    "    **Linear Association:** When the relationship between variables can be approximated by a straight line.\n",
    "   \n",
    "    **Nonlinear Association:** When the relationship follows a curve or does not fit a straight line.\n",
    "\n",
    "    **Example:** The relationship between age and income might be linear, while the relationship between hours of sleep and happiness could be nonlinear.\n",
    "\n",
    "8. **Correlation Coefficient:**\n",
    "   \n",
    "    **Definition:** A statistical measure that quantifies the strength and direction of a linear relationship between two variables. It ranges from -1 to 1, where -1 indicates a perfect negative linear relationship, 1 indicates a perfect positive linear relationship, and 0 indicates no linear relationship.\n",
    "\n",
    "    **Example:** A correlation coefficient of 0.8 suggests a strong positive association."
   ]
  },
  {
   "cell_type": "markdown",
   "id": "09bd7069-624b-4ccc-8fde-0e050c81ab2b",
   "metadata": {},
   "source": [
    "### Covariance"
   ]
  },
  {
   "cell_type": "markdown",
   "id": "9cb75431-01f6-4ca2-8fa8-cbb868636400",
   "metadata": {},
   "source": [
    "**Covariance and Association:**\n",
    "\n",
    "Covariance measures the degree to which two variables change together. If the covariance is positive, it suggests that when one variable increases, the other tends to increase as well. If it's negative, one variable tends to decrease as the other increases.\n",
    "Association refers to the broader concept of a relationship between variables. Covariance is a measure of association, but it is not standardized and can be sensitive to the scale of the variables."
   ]
  },
  {
   "cell_type": "markdown",
   "id": "db21f0e2-4e28-492d-9f7a-001c5c052f55",
   "metadata": {},
   "source": [
    "\n",
    "Covariance  (cov(X,Y) is a statistical measure that quantifies the degree to which two variables change together. It assesses the joint variability of two random variables. In simpler terms, covariance indicates whether an increase or decrease in one variable is associated with a similar change in another variable. Here are key points about covariance:\n",
    "\n",
    "1. Interpretation:Positive Covariance: Indicates that as one variable increases, the other variable tends to increase as well.\n",
    "    Negative Covariance: Suggests that as one variable increases, the other variable tends to decrease.\n",
    "\n",
    "2. Magnitude of Covariance: The magnitude of covariance is not standardized, meaning it depends on the units of the variables. Therefore, it can be challenging to compare covariances between different pairs of variables.\n",
    "\n",
    "3. Covariance Matrix:For multiple variables, the covariance between each pair of variables can be organized into a matrix known as the covariance matrix. Diagonal elements of the matrix represent the variances of individual variables.\n",
    "\n",
    "4. Covariance and Independence:If the covariance between two variables is zero, it suggests that there is no linear relationship between them. However, it's important to note that zero covariance does not imply independence. Variables can be dependent in non-linear ways that aren't captured by covariance.\n",
    "\n",
    "5. Limitations:Covariance is sensitive to the scale of the variables, making it challenging to interpret and compare across different datasets.\n",
    "It only captures linear relationships and may not fully represent the nature of more complex associations.\n",
    "\n",
    "6. Relation to Correlation:Covariance is related to correlation, but correlation is a standardized version of covariance. Correlation ranges from -1 to 1, providing a normalized measure of the strength and direction of a linear relationship.\n",
    "7. \n",
    "In summary, covariance measures how two variables change together, but its interpretation can be challenging due to scale sensitivity. Correlation is often preferred when assessing the strength and direction of the relationship, especially when comparing relationships across different datasets."
   ]
  },
  {
   "cell_type": "code",
   "execution_count": 13,
   "id": "170c9572-d60b-46e7-8ad0-ecf776ebf94a",
   "metadata": {},
   "outputs": [
    {
     "name": "stdout",
     "output_type": "stream",
     "text": [
      "Covariance between x and y: 2.0\n"
     ]
    }
   ],
   "source": [
    "import numpy as np\n",
    "\n",
    "# Sample data\n",
    "x = np.array([1, 2, 3, 4, 5])\n",
    "y = np.array([2, 3, 4, 5, 6])\n",
    "\n",
    "# Calculate means\n",
    "mean_x = np.mean(x)\n",
    "mean_y = np.mean(y)\n",
    "\n",
    "# Calculate covariance\n",
    "covariance = np.sum((x - mean_x) * (y - mean_y)) / len(x)\n",
    "\n",
    "print(f\"Covariance between x and y: {covariance}\")\n"
   ]
  },
  {
   "cell_type": "code",
   "execution_count": 19,
   "id": "604972f5-1da8-4ad0-bc6b-e280ad65b8fb",
   "metadata": {},
   "outputs": [
    {
     "name": "stdout",
     "output_type": "stream",
     "text": [
      "Covariance between variable1 and variable2: 2.5\n"
     ]
    }
   ],
   "source": [
    "import numpy as np\n",
    "\n",
    "# Sample data for two variables\n",
    "variable1 = [1, 2, 3, 4, 5]\n",
    "variable2 = [2, 3, 4, 5, 6]\n",
    "\n",
    "# Calculate covariance matrix\n",
    "covariance_matrix = np.cov(variable1, variable2)\n",
    "\n",
    "# Extract covariance between variable1 and variable2\n",
    "covariance = covariance_matrix[0, 1]\n",
    "\n",
    "print(f\"Covariance between variable1 and variable2: {covariance}\")\n"
   ]
  },
  {
   "cell_type": "code",
   "execution_count": 20,
   "id": "1264a3d5-a199-4801-a499-588a697b3ee9",
   "metadata": {},
   "outputs": [
    {
     "name": "stdout",
     "output_type": "stream",
     "text": [
      "Covariance between Variable1 and Variable2: 2.5\n"
     ]
    }
   ],
   "source": [
    "import pandas as pd\n",
    "\n",
    "# Sample data for two variables in a DataFrame\n",
    "data = pd.DataFrame({\n",
    "    'Variable1': [1, 2, 3, 4, 5],\n",
    "    'Variable2': [2, 3, 4, 5, 6]\n",
    "})\n",
    "\n",
    "# Calculate covariance using Pandas DataFrame\n",
    "covariance = data['Variable1'].cov(data['Variable2'])\n",
    "\n",
    "print(f\"Covariance between Variable1 and Variable2: {covariance}\")\n"
   ]
  },
  {
   "cell_type": "code",
   "execution_count": 15,
   "id": "0d36d6a9-d698-474e-bab5-6e47ef172c0f",
   "metadata": {},
   "outputs": [
    {
     "name": "stdout",
     "output_type": "stream",
     "text": [
      "Covariance Matrix:\n",
      "[[15. 15. 15.]\n",
      " [15. 15. 15.]\n",
      " [15. 15. 15.]]\n"
     ]
    }
   ],
   "source": [
    "import numpy as np\n",
    "\n",
    "# Sample data with three variables\n",
    "data = np.array([\n",
    "    [1, 2, 3],\n",
    "    [4, 5, 6],\n",
    "    [7, 8, 9],\n",
    "    [10, 11, 12]\n",
    "])\n",
    "\n",
    "# Calculate the covariance matrix\n",
    "covariance_matrix = np.cov(data, rowvar=False)\n",
    "\n",
    "print(\"Covariance Matrix:\")\n",
    "print(covariance_matrix)\n"
   ]
  },
  {
   "cell_type": "markdown",
   "id": "4eff4062-0ee0-4495-a367-be3a158b4558",
   "metadata": {},
   "source": [
    "### Correlation"
   ]
  },
  {
   "cell_type": "markdown",
   "id": "ee87b4f8-53c7-41c3-86b7-e80342236f70",
   "metadata": {},
   "source": [
    "Correlation as Standardized Covariance:\n",
    "\n",
    "Correlation is a standardized measure of association that ranges from -1 to 1. It is calculated by dividing the covariance by the product of the standard deviations of the variables.\n",
    "Positive correlation (correlation coefficient close to 1) indicates a positive linear relationship, while negative correlation (close to -1) suggests a negative linear relationship."
   ]
  },
  {
   "cell_type": "markdown",
   "id": "22ef0799-cd37-4744-bdaf-ef088fd19b9f",
   "metadata": {},
   "source": [
    "If the correlation coefficient is —\n",
    "\n",
    "1, then the two variables are perfectly positively correlated with each other\n",
    "\n",
    "0, then the two variables are not correlated with each other\n",
    "\n",
    "-1, then the two variables are perfectly negatively correlated with each other"
   ]
  },
  {
   "cell_type": "markdown",
   "id": "0eafc0b8-c715-4832-9fd2-fb412aa0aae5",
   "metadata": {},
   "source": [
    "While covariance and correlation provide information about the strength and direction of a relationship, they don't reveal causation. Causation involves understanding why changes in one variable lead to changes in another."
   ]
  },
  {
   "cell_type": "code",
   "execution_count": 17,
   "id": "7f94dfc9-b8c9-4b6c-82e9-864ef91a5398",
   "metadata": {},
   "outputs": [
    {
     "name": "stdout",
     "output_type": "stream",
     "text": [
      "Correlation Coefficient between variable1 and variable2: 1.0\n"
     ]
    }
   ],
   "source": [
    "from scipy.stats import pearsonr\n",
    "\n",
    "# Sample data for two variables\n",
    "variable1 = [1, 2, 3, 4, 5]\n",
    "variable2 = [2, 3, 4, 5, 6]\n",
    "\n",
    "# Calculate the correlation coefficient\n",
    "correlation_coefficient, _ = pearsonr(variable1, variable2)\n",
    "\n",
    "print(f\"Correlation Coefficient between variable1 and variable2: {correlation_coefficient}\")\n"
   ]
  },
  {
   "cell_type": "code",
   "execution_count": 16,
   "id": "eefc2fb5-fb1b-4aec-a7de-c38d2c66a729",
   "metadata": {},
   "outputs": [
    {
     "name": "stdout",
     "output_type": "stream",
     "text": [
      "Correlation Matrix:\n",
      "[[1. 1. 1.]\n",
      " [1. 1. 1.]\n",
      " [1. 1. 1.]]\n"
     ]
    }
   ],
   "source": [
    "import numpy as np\n",
    "\n",
    "# Sample data with three variables\n",
    "data = np.array([\n",
    "    [1, 2, 3],\n",
    "    [4, 5, 6],\n",
    "    [7, 8, 9],\n",
    "    [10, 11, 12]\n",
    "])\n",
    "\n",
    "# Calculate the correlation matrix\n",
    "correlation_matrix = np.corrcoef(data, rowvar=False)\n",
    "\n",
    "print(\"Correlation Matrix:\")\n",
    "print(correlation_matrix)\n"
   ]
  },
  {
   "cell_type": "markdown",
   "id": "8cbbe4bd-b3ac-4308-9a23-de1b557a2d08",
   "metadata": {},
   "source": [
    "In most cases, if you are interested in just the correlation coefficient and not the p-value, corrcoef from numpy might be more straightforward. If you need the p-value for hypothesis testing, you can use pearsonr from scipy.stats."
   ]
  },
  {
   "cell_type": "markdown",
   "id": "82c6ad51-fe68-4cd2-87d2-5efaa6eb8f04",
   "metadata": {},
   "source": [
    "### Causation"
   ]
  },
  {
   "cell_type": "markdown",
   "id": "9dd1eebc-634c-46a0-83b8-cfeb5da04c8d",
   "metadata": {},
   "source": [
    "1. Association does not guarantee causation. \n",
    "2. Causation guarantees association. "
   ]
  },
  {
   "cell_type": "markdown",
   "id": "97015021-d62b-4924-882c-bb3b1fe09824",
   "metadata": {},
   "source": [
    "Causation refers to a cause-and-effect relationship between two variables, where a change in one variable leads to a change in another. Establishing causation is a complex process in statistics and scientific research and requires more evidence than just observing an association between variables. Here are key points to understand about causation:"
   ]
  },
  {
   "cell_type": "markdown",
   "id": "ad87a1ee-b8eb-406b-83fe-5ca316cde3f8",
   "metadata": {},
   "source": [
    "**Correlation vs. Causation:**\n",
    "\n",
    "* Correlation: Describes the statistical association between two variables. If variables A and B are correlated, it means they tend to vary together.\n",
    "  \n",
    "* Causation: Implies that a change in one variable directly causes a change in another. It goes beyond correlation, indicating a deeper, directional relationship."
   ]
  },
  {
   "cell_type": "markdown",
   "id": "cc8b1293-bdc9-46ad-a452-f213b628ee87",
   "metadata": {},
   "source": [
    "**Criteria for Causation:**\n",
    "\n",
    "* Temporal Order: The cause must precede the effect in time. If A causes B, the change in A should occur before the change in B.\n",
    "  \n",
    "* Association: There should be a statistically significant association between the cause and effect. Correlation is a necessary but not sufficient condition for causation.\n",
    "  \n",
    "* Non-Spuriousness: The observed relationship should not be due to a third variable (confounding factor) that influences both the cause and the effect."
   ]
  },
  {
   "cell_type": "code",
   "execution_count": 14,
   "id": "fc9412e6-0505-4b7e-a36a-e64b33a0471f",
   "metadata": {},
   "outputs": [
    {
     "data": {
      "image/png": "[encoded data removed]",
      "text/plain": [
       "<Figure size 640x480 with 1 Axes>"
      ]
     },
     "metadata": {},
     "output_type": "display_data"
    }
   ],
   "source": [
    "import matplotlib.pyplot as plt\n",
    "\n",
    "# Simulated data with causation\n",
    "np.random.seed(42)\n",
    "x_cause = np.random.randn(100)\n",
    "y_effect = 2 * x_cause + np.random.randn(100)\n",
    "\n",
    "# Scatter plot\n",
    "plt.scatter(x_cause, y_effect)\n",
    "plt.xlabel(\"X (cause)\")\n",
    "plt.ylabel(\"Y (effect)\")\n",
    "plt.title(\"Simulated Data with Causation\")\n",
    "plt.show()\n"
   ]
  },
  {
   "cell_type": "markdown",
   "id": "d8bea80d-02d5-4b36-9e5d-7d3e1b483517",
   "metadata": {},
   "source": [
    "In this example, x_cause is a variable causing an effect in y_effect. The relationship is intentionally created with a coefficient of 2, indicating a simple linear causation.\n",
    "\n",
    "Remember, while correlation helps measure association, causation is a complex concept that often requires controlled experiments to establish. The simulated example here is just for illustrative purposes and doesn't prove causation in a real-world scenario."
   ]
  },
  {
   "cell_type": "markdown",
   "id": "2c93cf1f-2019-41f5-8f4a-c3b98dcca924",
   "metadata": {},
   "source": [
    "In summary, covariance and correlation measure statistical relationships (association), while causation requires a deeper understanding of the mechanisms involved. While these concepts are related, they serve different purposes in statistical analysis and research. It's crucial to interpret findings cautiously and consider the context and study design when drawing conclusions."
   ]
  },
  {
   "cell_type": "markdown",
   "id": "f98493ee-2695-4c8d-b3ff-e6c115b171c7",
   "metadata": {},
   "source": [
    "### Simple Linear Regression"
   ]
  },
  {
   "cell_type": "markdown",
   "id": "546cd4ed-38ee-4773-a4d2-ca09188a973c",
   "metadata": {},
   "source": [
    "Regression is a statistical method used to determine the relationship between variables in the form of an equation. "
   ]
  },
  {
   "cell_type": "markdown",
   "id": "1e098a0a-c08a-4e38-bf2b-5094079b2bb4",
   "metadata": {},
   "source": [
    "* Dependent variable: the variable that you predict is called the ‘dependent’ or the ‘response’ variable. It is usually denoted by ‘Y’.\n",
    "\n",
    "* Independent variable: the variable that is used to predict this dependent variable is called the ‘independent’ or ‘explanatory’ variable. It is usually denoted by ‘X’."
   ]
  },
  {
   "cell_type": "markdown",
   "id": "4d492c11-d4cb-4e07-8058-a795512e4dda",
   "metadata": {},
   "source": [
    "Regression Coefficients (β 0) and (β 1):\n",
    "\n",
    "* β 0 is the intercept, representing the predicted value of the dependent variable when the independent variable is zero.\n",
    "\n",
    "* (β 1) is the slope, indicating the change in the predicted value of the dependent variable for a one-unit change in the independent variable."
   ]
  },
  {
   "cell_type": "markdown",
   "id": "f1eec21e-5d23-4ac7-a03d-d28a9408bedd",
   "metadata": {},
   "source": [
    "Error Term (ϵ):\n",
    "\n",
    "The error term represents the difference between the observed values of the dependent variable and the values predicted by the regression equation. It captures unobserved factors affecting the dependent variable.\n",
    "\n",
    "Residuals:\n",
    "\n",
    "Residuals are the differences between the observed values and the values predicted by the regression equation. They represent the unexplained variation in the dependent variable."
   ]
  },
  {
   "cell_type": "markdown",
   "id": "0abc2a64-a319-4b1a-86b8-3e6998924f95",
   "metadata": {},
   "source": [
    "Least Squares Method:\n",
    "\n",
    "Linear regression uses the least squares method to find the line that minimizes the sum of the squared differences between the observed and predicted values. This method aims to find the \"best-fitting\" line.\n",
    "\n",
    "Assumptions:\n",
    "\n",
    "Linear regression assumes that there is a linear relationship between the independent and dependent variables.\n",
    "Residuals should be normally distributed and have constant variance (homoscedasticity).\n",
    "Residuals should be independent of each other.\n",
    "\n",
    "Coefficient of Determination (R 2): represents the proportion of variance in the dependent variable that is explained by the independent variable(s). It ranges from 0 to 1, with higher values indicating a better fit.\n",
    "\n",
    "Multiple Linear Regression:\n",
    "\n",
    "When there are multiple independent variables, the linear regression equation becomes more complex:\n",
    "\n",
    "The interpretation of coefficients becomes the change in the dependent variable for a one-unit change in the corresponding independent variable, holding other variables constant."
   ]
  },
  {
   "cell_type": "markdown",
   "id": "f7e9c0bd-3495-4fed-bc89-201262199f89",
   "metadata": {},
   "source": [
    "**R2, P value and Residual Plots are key in the regression anlaysis**"
   ]
  },
  {
   "cell_type": "code",
   "execution_count": 8,
   "id": "477669d0-19e9-4206-9130-9c9e6bb7eabb",
   "metadata": {},
   "outputs": [
    {
     "name": "stdout",
     "output_type": "stream",
     "text": [
      "                            OLS Regression Results                            \n",
      "==============================================================================\n",
      "Dep. Variable:                      y   R-squared:                       1.000\n",
      "Model:                            OLS   Adj. R-squared:                  1.000\n",
      "Method:                 Least Squares   F-statistic:                 5.855e+30\n",
      "Date:                Tue, 05 Dec 2023   Prob (F-statistic):           3.36e-91\n",
      "Time:                        19:35:57   Log-Likelihood:                 258.23\n",
      "No. Observations:                   8   AIC:                            -512.5\n",
      "Df Residuals:                       6   BIC:                            -512.3\n",
      "Df Model:                           1                                         \n",
      "Covariance Type:            nonrobust                                         \n",
      "==============================================================================\n",
      "                 coef    std err          t      P>|t|      [0.025      0.975]\n",
      "------------------------------------------------------------------------------\n",
      "const          1.0000   2.09e-15   4.79e+14      0.000       1.000       1.000\n",
      "x1             1.0000   4.13e-16   2.42e+15      0.000       1.000       1.000\n",
      "==============================================================================\n",
      "Omnibus:                        0.786   Durbin-Watson:                   0.056\n",
      "Prob(Omnibus):                  0.675   Jarque-Bera (JB):                0.570\n",
      "Skew:                           0.227   Prob(JB):                        0.752\n",
      "Kurtosis:                       1.773   Cond. No.                         11.5\n",
      "==============================================================================\n",
      "\n",
      "Notes:\n",
      "[1] Standard Errors assume that the covariance matrix of the errors is correctly specified.\n",
      "[2. 3. 4. 5. 6. 7. 8. 9.]\n",
      "[2 3 4 5 6 7 8 9]\n",
      "[6.66133815e-16 8.88178420e-16 1.77635684e-15 1.77635684e-15\n",
      " 1.77635684e-15 2.66453526e-15 3.55271368e-15 3.55271368e-15]\n"
     ]
    },
    {
     "name": "stderr",
     "output_type": "stream",
     "text": [
      "C:\\Users\\Neurabytes-taranjit\\.virtualenvs\\datascience_practice_general-Y_GlFm1R\\Lib\\site-packages\\scipy\\stats\\_stats_py.py:1806: UserWarning: kurtosistest only valid for n>=20 ... continuing anyway, n=8\n",
      "  warnings.warn(\"kurtosistest only valid for n>=20 ... continuing \"\n"
     ]
    },
    {
     "data": {
      "text/plain": [
       "<matplotlib.legend.Legend at 0x1dbb9c6f490>"
      ]
     },
     "execution_count": 8,
     "metadata": {},
     "output_type": "execute_result"
    },
    {
     "data": {
      "image/png": "[encoded data removed]",
      "text/plain": [
       "<Figure size 640x480 with 1 Axes>"
      ]
     },
     "metadata": {},
     "output_type": "display_data"
    }
   ],
   "source": [
    "import numpy as np\n",
    "import statsmodels.api as sm\n",
    "import matplotlib.pyplot as plt\n",
    "\n",
    "# Sample data\n",
    "X = np.array([1, 2, 3, 4, 5, 6, 7, 8])  # Independent variable (feature)\n",
    "y = np.array([2, 3, 4, 5, 6, 7, 8, 9])  # Dependent variable (target)\n",
    "\n",
    "# Add a constant term for the intercept\n",
    "X_with_intercept = sm.add_constant(X)\n",
    "\n",
    "# Create and fit the OLS (Ordinary Least Squares) model\n",
    "model = sm.OLS(y, X_with_intercept)\n",
    "results = model.fit()\n",
    "\n",
    "# Display regression summary\n",
    "print(results.summary())\n",
    "\n",
    "y_pred = results.predict(X_with_intercept)\n",
    "print(y_pred)\n",
    "print(y)\n",
    "residuals = y - y_pred\n",
    "print(residuals)\n",
    "\n",
    "# Plot the residuals\n",
    "plt.scatter(X, residuals, label='Residuals')\n",
    "plt.axhline(y=0, color='red', linestyle='--', label='Zero Residual Line')\n",
    "plt.xlabel('Independent Variable (X)')\n",
    "plt.ylabel('Residuals')\n",
    "plt.title('Residual Plot')\n",
    "plt.legend()\n"
   ]
  },
  {
   "cell_type": "markdown",
   "id": "5ad67a2c-1d45-48b0-a4e9-efaa2966ef8d",
   "metadata": {},
   "source": [
    "X is the independent variable (feature).\n",
    "y is the dependent variable (target).\n",
    "sm.add_constant(X) adds a constant term for the intercept in the linear regression model.\n",
    "The OLS model is created using sm.OLS(y, X_with_intercept), and then it's fitted to the data using fit().\n",
    "The results.summary() provides a summary including the p-value.\n",
    "Look for the p-value associated with the coefficient of the independent variable. If the p-value is below a significance threshold (commonly 0.05), it suggests that the independent variable is statistically significant. However, remember that statistical significance doesn't imply causation. Additional considerations and evidence are needed to make causal claims."
   ]
  },
  {
   "cell_type": "markdown",
   "id": "2faa3372-13c1-4621-ba4f-85918d9bcb4a",
   "metadata": {},
   "source": [
    "If there's no significant pattern and the residuals are evenly scattered, it suggests that the linear model is capturing the relationship between the variables well. On the other hand, if you observe a pattern (e.g., a funnel shape, heteroscedasticity), it might indicate issues with the model assumptions and might warrant further investigation or model refinement."
   ]
  },
  {
   "cell_type": "markdown",
   "id": "36dd39a3-774c-4fd8-8009-6b357e439e6d",
   "metadata": {},
   "source": [
    "In multi-linear regression, you need to look at Adusted R sqaure."
   ]
  },
  {
   "cell_type": "markdown",
   "id": "b9973103-ac8f-42a5-80ae-7cf7eff27aa8",
   "metadata": {},
   "source": [
    "The following are important considerations to account for before doing a regression analysis: \n",
    "\n",
    "Linearity: There should be an overall linear pattern between the dependent variable and all the independent variables.\n",
    "\n",
    "No autocorrelation: The error term associated with a particular value of each independent variable is assumed to not depend on the residual of another value. In other words, a residual term is not correlated with other residual terms.\n",
    "\n",
    "Normality: The error term is assumed to be a normally distributed random variable for all the values of the observations.\n",
    "\n",
    "Constant variance: The residuals of data points are assumed to have equal variance for all the values of the observations.\n",
    "\n",
    "No multicollinearity: The independent variables in the regression model should not be highly correlated with one another"
   ]
  },
  {
   "cell_type": "markdown",
   "id": "11da46e6-21e5-4d15-8874-ac67112bec93",
   "metadata": {},
   "source": [
    "## Forecasting"
   ]
  },
  {
   "cell_type": "markdown",
   "id": "d327f2d6-b242-4503-a22a-7fb64f0899d7",
   "metadata": {},
   "source": [
    "Forecasting can be divided into two buckets: qualitative and quantitative.\n",
    "\n",
    "The qualitative approach involves the following techniques: \n",
    "\n",
    "* The judgement-based approach: Here, future demand is predicted based on the judgement and expertise of industry or domain experts.\n",
    "\n",
    "* The survey-based approach: In this technique, consumer surveys are used to understand the future demand.\n",
    "\n",
    "* Delphi: In this technique, a panel of experts are asked pointed questions to arrive at a demand forecast.\n",
    "\n",
    "The second bucket consists of three quantitative techniques, which are as follows:\n",
    "\n",
    "* The time series method: In this technique, a mathematical relation is derived between past demand and future demand.\n",
    "\n",
    "* Econometric forecast methods: Here, apart from past demand data, causal factors such as sales or promotional events and weather changes are also taken into consideration.\n",
    "\n",
    "* Predictive modelling: Here, a predictive problem is formulated, and a large amount of data is analysed using machine learning algorithms."
   ]
  },
  {
   "cell_type": "code",
   "execution_count": null,
   "id": "54767e1f-9e63-400e-8738-c87e2e9c2c9c",
   "metadata": {},
   "outputs": [],
   "source": []
  }
 ],
 "metadata": {
  "kernelspec": {
   "display_name": "Python 3 (ipykernel)",
   "language": "python",
   "name": "python3"
  },
  "language_info": {
   "codemirror_mode": {
    "name": "ipython",
    "version": 3
   },
   "file_extension": ".py",
   "mimetype": "text/x-python",
   "name": "python",
   "nbconvert_exporter": "python",
   "pygments_lexer": "ipython3",
   "version": "3.11.6"
  }
 },
 "nbformat": 4,
 "nbformat_minor": 5
}
