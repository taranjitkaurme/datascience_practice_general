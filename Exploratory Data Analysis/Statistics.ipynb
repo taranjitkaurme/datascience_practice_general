{
 "cells": [
  {
   "cell_type": "markdown",
   "id": "65073512-bcf3-46cd-8551-a7bc655e3ce7",
   "metadata": {},
   "source": [
    "### What is Statistics\n",
    "Statistics is a branch of mathematics that deals with the collection, analysis, interpretation, and presentation of data. Statistics can be used to describe, summarize, compare, and infer information from data. Statistics can also help to make decisions based on data and probability.\n",
    "\n",
    "There are two main types of statistics: \n",
    "* **Descriptive** - Descriptive statistics uses graphs, tables, or numerical calculations to provide descriptions of the data.\n",
    "* **Inferential** - Inferential statistics uses data samples to make predictions or inferences about the population. Both types of statistics are important for statistical analysis.\n",
    "* **Analytical** - It is used to find out the association or relationship between two or more variables. It is the application of statistical methods and techniques used for solving real-life problems. Quality control, sample surveys, inventory management, simulations, quantitative analysis for business decision-making, etc., form a part of this category.\n",
    "\n",
    "Descriptive statistics is used to analyse patterns in data, and there are three ways of doing the same.  \n",
    "* **Measures of central tendency**: The mean, median, and mode are measures of central tendency that describe the average or typical value of a data set.\n",
    "* **Measures of Dispersion**: The standard deviation and variance are measures of dispersion that describe how spread out the data values are from the mean.\n",
    "* **Measures of Association**: The correlation coefficient and regression line are measures of association that describe how two variables are related to each other.\n",
    "\n",
    "  \n",
    "**The hypothesis test and confidence interval** are methods of inference that help to draw conclusions about the population based on the data sample.\n",
    "  \n",
    "Statistics has many applications in various fields, such as science, engineering, business, economics, education, health, and social sciences. Statistics can help to answer questions, test hypotheses, analyze trends, and make predictions based on data. Statistics can also help to improve the quality and efficiency of processes, products, and services."
   ]
  },
  {
   "cell_type": "markdown",
   "id": "516c9a63-5e99-46db-bf1f-ebe84bf5afce",
   "metadata": {},
   "source": [
    "Mean, median, and mode are measures of central tendency, which give us an idea of where the center of a distribution or a set of values is.\n",
    "\n",
    "**Mean**: The mean is simply the average of all the values in a dataset. You calculate it by adding up all the values and then dividing by the number of values.\n",
    "* Formula: Mean = (Sum of all values) / (Number of values)\n",
    "* Example: Let's say we have a set of test scores: 85, 90, 92, 88, and 95. The mean would be (85 + 90 + 92 + 88 + 95) / 5 = 90.\n",
    "* When to use: Use the mean when you want a balance of all values and there are no extreme outliers. It's sensitive to extreme values, so if there are outliers, the mean might not represent the \"typical\" value well.\n",
    "\n",
    "**Median**: The median is the middle value in a dataset when it's ordered. If there's an even number of values, the median is the average of the two middle values.\n",
    "* To find the median, you first need to arrange the data in numerical order.\n",
    "* Example: Using the same test scores, when ordered: 85, 88, 90, 92, 95. The median is 90, as it's the middle value.\n",
    "* When to use: Use the median when your data has outliers or is not symmetrically distributed. It's less sensitive to extreme values and gives you a better sense of the central location if there are outliers.\n",
    "\n",
    "**Mode**: The mode is the value that appears most frequently in a dataset. A dataset can have no mode, one mode, or more than one mode.\n",
    "* A set of data may have one mode, more than one mode (multimodal), or no mode at all if no value is repeated.\n",
    "* Example: In the test scores, there is no mode because no score repeats.\n",
    "* When to use: Use the mode when you want to identify the most common value in your dataset. It's especially useful for categorical data.\n",
    " \n",
    "\n",
    "In summary, the choice between mean, median, and mode depends on the nature of your data and the insights you're seeking.\n",
    "Note: There can be more than one mode for a given variable dataset. For instance, there can be elections in which three parties participate, two of those get 40% of the votes, each, and the third party gets 20%. In this case, there are two modes since two parties have the highest (equal) number of votes.\n",
    "\n",
    "\n",
    "When the mean=median=mode the data is said to be normally distributed. When the sample or population distribution is not normal, the central limit theorem states that if you take infinitely many samples from the population, evaluate the means of these samples, the resulting distribution will be a normal distribution.\n"
   ]
  },
  {
   "cell_type": "code",
   "execution_count": 1,
   "id": "eb175e49-705f-4739-b344-a13b505e6d19",
   "metadata": {},
   "outputs": [
    {
     "name": "stdout",
     "output_type": "stream",
     "text": [
      "Mean: 90\n",
      "Median: 90\n",
      "Mode: 85, Frequency: 1\n"
     ]
    }
   ],
   "source": [
    "import statistics\n",
    "from scipy import stats\n",
    "\n",
    "# Example data\n",
    "test_scores = [85, 90, 92, 88, 95]\n",
    "\n",
    "# Mean\n",
    "mean_score = statistics.mean(test_scores)\n",
    "print(f\"Mean: {mean_score}\")\n",
    "\n",
    "# Median\n",
    "median_score = statistics.median(test_scores)\n",
    "print(f\"Median: {median_score}\")\n",
    "\n",
    "# Mode\n",
    "# The mode function in scipy returns a mode object, which contains the mode(s) and their frequencies\n",
    "mode_result = stats.mode(test_scores)\n",
    "print(f\"Mode: {mode_result.mode}, Frequency: {mode_result.count}\")\n"
   ]
  },
  {
   "cell_type": "markdown",
   "id": "5c92e2dc-69f4-4d92-a4cb-24a1ada666d0",
   "metadata": {},
   "source": [
    "The five-number summary is a set of descriptive statistics that provides a concise summary of the distribution of a dataset. It includes the following five values:\n",
    "\n",
    "1. **Minimum**: The smallest value in the dataset.\n",
    "2. **First Quartile (Q1)**: The median of the lower half of the dataset. It's the value below which 25% of the data falls.\n",
    "3. **Median (Second Quartile, Q2)**: The middle value of the dataset, separating it into two equal halves.\n",
    "4. **Third Quartile (Q3)**: The median of the upper half of the dataset. It's the value below which 75% of the data falls.\n",
    "5. **Maximum**: The largest value in the dataset.\n",
    "\n",
    "The five-number summary is particularly useful for describing the spread and central tendency of a dataset, especially when the dataset is large and diverse.\n",
    "\n",
    "Here's a simple example in Python using the same test scores data:"
   ]
  },
  {
   "cell_type": "code",
   "execution_count": 2,
   "id": "2268f75f-f235-40d0-b575-ec4fb13bc0b6",
   "metadata": {},
   "outputs": [
    {
     "name": "stdout",
     "output_type": "stream",
     "text": [
      "Minimum: 85\n",
      "Q1: 88.0\n",
      "Median: 90.0\n",
      "Q3: 92.0\n",
      "Maximum: 95\n"
     ]
    }
   ],
   "source": [
    "import numpy as np\n",
    "\n",
    "# Example data\n",
    "test_scores = [85, 90, 92, 88, 95]\n",
    "\n",
    "# Five-number summary using numpy\n",
    "minimum = np.min(test_scores)\n",
    "q1 = np.percentile(test_scores, 25)\n",
    "median = np.median(test_scores)\n",
    "q3 = np.percentile(test_scores, 75)\n",
    "maximum = np.max(test_scores)\n",
    "\n",
    "print(f\"Minimum: {minimum}\")\n",
    "print(f\"Q1: {q1}\")\n",
    "print(f\"Median: {median}\")\n",
    "print(f\"Q3: {q3}\")\n",
    "print(f\"Maximum: {maximum}\")\n"
   ]
  },
  {
   "cell_type": "markdown",
   "id": "42a32e10-d9aa-4cf3-b745-eb9a532f7cc7",
   "metadata": {},
   "source": [
    "another visual way to represent the five-number summary and additional information about the distribution of a dataset is by using a box plot (also known as a box-and-whisker plot). A box plot visually displays the minimum, first quartile (Q1), median, third quartile (Q3), and maximum of a dataset.\r\n",
    "\r\n",
    "In a box plot:\r\n",
    "\r\n",
    "A box is drawn from Q1 to Q3, representing the interquartile range (IQR).\r\n",
    "A line (whisker) extends from the box to the minimum and maximum values.\r\n",
    "A line inside the box represents the median.\r\n",
    "Outliers, if any, are often shown as individual points beyond the whiskers.\r\n",
    "\r\n",
    "Here's an example in Python using the matplotlib library:"
   ]
  }
 ],
 "metadata": {
  "kernelspec": {
   "display_name": "Python 3 (ipykernel)",
   "language": "python",
   "name": "python3"
  },
  "language_info": {
   "codemirror_mode": {
    "name": "ipython",
    "version": 3
   },
   "file_extension": ".py",
   "mimetype": "text/x-python",
   "name": "python",
   "nbconvert_exporter": "python",
   "pygments_lexer": "ipython3",
   "version": "3.11.6"
  }
 },
 "nbformat": 4,
 "nbformat_minor": 5
}
