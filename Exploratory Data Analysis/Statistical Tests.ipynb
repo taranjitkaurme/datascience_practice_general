{
 "cells": [
  {
   "cell_type": "markdown",
   "id": "2a7662bd-c5fe-4fd9-8e0e-0207b92e2b3e",
   "metadata": {},
   "source": [
    "# Introduction to Statistical Tests:"
   ]
  },
  {
   "cell_type": "markdown",
   "id": "9d390a91-fdbf-4b0c-8ab7-235874843cb8",
   "metadata": {},
   "source": [
    "Statistical tests are procedures used to make inferences about a population based on a sample of data. They help us draw conclusions about the characteristics of a population by analyzing the data collected from a subset of that population. These tests are designed to assess the evidence against a null hypothesis and determine whether an observed effect is statistically significant.\n",
    "\n",
    "Statistical tests are like detectives for your data—they help you find out if the differences or patterns you see are real or just random chance. Imagine you have a big box of different-colored marbles, and you want to know if one color is more common than the others. Statistical tests are your magnifying glass."
   ]
  },
  {
   "cell_type": "markdown",
   "id": "f127efb7-227e-4b8a-a016-e0c386f1f2e4",
   "metadata": {},
   "source": [
    "#### Common statistical tests include:\n",
    "\n",
    "##### T-Test: \n",
    "* Used to compare means of two groups.Think of it as a tool to figure out if the average scores of two groups (like two teaching methods) are really different or if it could just be luck.\n",
    "\n",
    "##### ANOVA (Analysis of Variance): \n",
    "* Used to compare means of three or more groups. Picture it as a detective checking if the average scores differ across multiple groups, like different levels of education.\n",
    "\n",
    "##### Chi-Square Test: \n",
    "* Used to assess the association between categorical variables. Imagine this as a test to see if there's a connection between two things, like checking if your choice of drink is related to your gender.\n",
    "\n",
    "##### Correlation Coefficient: \n",
    "* Measures the strength and direction of a linear relationship between two variables. It's like a measure of how tight a pair of friends are. If one variable goes up, does the other also go up? Or do they go in opposite directions?\n",
    "\n",
    "##### Linear Regression: \n",
    "* Predicts the value of one variable based on the value of another variable. This is your crystal ball. If you know one thing, it helps you predict another. Like predicting house prices based on their size.\n",
    "\n",
    "Each test serves a different purpose and is applicable to specific types of data and research questions. Understanding when and how to use these tests is crucial for drawing valid conclusions from your data. n their size.\r\n",
    "In simple terms, these tests help you make sense of your data and figure out if what you're seeing is real or just a fluke."
   ]
  },
  {
   "cell_type": "markdown",
   "id": "8e38c1c4-5c1f-4b59-aa7e-6030039428e2",
   "metadata": {},
   "source": [
    "#### Let's start with the T-Test.\n",
    "\n",
    "##### 1. T-Test:\n",
    "\n",
    "##### Explanation:\n",
    "\n",
    "The t-test is a statistical test used to determine if there is a significant difference between the means of two groups. It assumes that the data is normally distributed.\n",
    "\n",
    "##### Example:\n",
    "\n",
    "Suppose we have two sets of exam scores for two different teaching methods. We want to know if there is a significant difference in the average scores between the two methods."
   ]
  },
  {
   "cell_type": "code",
   "execution_count": 1,
   "id": "b255353d-8fa9-4218-adc1-beb223285719",
   "metadata": {},
   "outputs": [
    {
     "name": "stdout",
     "output_type": "stream",
     "text": [
      "There is no significant difference between the two methods.\n"
     ]
    }
   ],
   "source": [
    "import numpy as np\n",
    "from scipy import stats\n",
    "\n",
    "# Sample data\n",
    "method1_scores = np.array([80, 85, 88, 92, 78, 95])\n",
    "method2_scores = np.array([88, 90, 84, 89, 82, 87])\n",
    "\n",
    "# Perform t-test\n",
    "t_stat, p_value = stats.ttest_ind(method1_scores, method2_scores)\n",
    "\n",
    "# Interpret results\n",
    "if p_value < 0.05:\n",
    "    print(\"There is a significant difference between the two methods.\")\n",
    "else:\n",
    "    print(\"There is no significant difference between the two methods.\")\n"
   ]
  },
  {
   "cell_type": "markdown",
   "id": "5756c793-6253-4690-8508-a3d3d21d60e1",
   "metadata": {},
   "source": [
    "##### In statistical terms \n",
    "\n",
    "a \"significant difference\" means that the difference observed between two groups (or more) is unlikely to have occurred by random chance alone. When we say a result is statistically significant, it implies that the observed effect is likely a real effect rather than just a random fluctuation in the data.\n",
    "\n",
    "The threshold for statistical significance is often set at a p-value of 0.05. The p-value is the probability of obtaining results as extreme as the ones observed in the study if the null hypothesis is true. If the p-value is less than 0.05, we typically reject the null hypothesis and conclude that there is a significant difference.\n",
    "\n",
    "So, in the context of a t-test, if the p-value is less than 0.05, we would say that there is a significant difference in the means of the two groups being compared. If the p-value is greater than 0.05, we would not have enough evidence to reject the null hypothesis and would conclude that there is no significant difference.\n",
    "\n",
    "##### In laymen terms\n",
    "\n",
    "Imagine you have two groups of students, and you're comparing their average test scores.\r\n",
    "\r\n",
    "When we say there's a \"significant difference,\" we mean that the difference in scores is not likely due to random chance. It suggests there's a real, meaningful distinction between the two groups.\r\n",
    "\r\n",
    "The p-value is like a measure of how surprising or unusual your results are. If the p-value is low (typically below 0.05), it suggests that the difference you see is probably not just luck. It's like saying, \"Hey, this difference is so unusual that it's likely not a fluke.\"\r\n",
    "\r\n",
    "So, when the p-value is low, you might say, \"There is a significant difference between these groups,\" meaning the difference is likely real and not just random variation.\r\n",
    "\r\n",
    "On the other hand, if the p-value is high, it suggests that the observed difference could easily happen by random chance. In that case, you might say, \"We don't have enough evidence to claim a significant difference,\" indicating that the observed distinction could be due to random factors."
   ]
  },
  {
   "cell_type": "code",
   "execution_count": 3,
   "id": "bc4a16ea-e466-4a22-af2c-9ec4f9b70889",
   "metadata": {},
   "outputs": [
    {
     "name": "stdout",
     "output_type": "stream",
     "text": [
      "There is a significant difference between the two methods.\n"
     ]
    }
   ],
   "source": [
    "import numpy as np\n",
    "from scipy import stats\n",
    "\n",
    "# Updated sample data\n",
    "methodA_scores = np.array([75, 80, 85, 90, 78, 82])\n",
    "methodB_scores = np.array([95, 92, 88, 85, 84, 89])\n",
    "\n",
    "# Perform t-test\n",
    "t_stat, p_value = stats.ttest_ind(methodA_scores, methodB_scores)\n",
    "\n",
    "# Interpret results\n",
    "if p_value < 0.05:\n",
    "    print(\"There is a significant difference between the two methods.\")\n",
    "else:\n",
    "    print(\"There is no significant difference between the two methods.\")\n"
   ]
  },
  {
   "cell_type": "markdown",
   "id": "453a105d-4740-4e24-88bb-246dbcca65b0",
   "metadata": {},
   "source": [
    "In this case, if the p-value is less than 0.05, we would conclude that there is a significant difference between Method A and Method B. This means that the difference in average scores is unlikely to be due to random chance alone. The teaching method likely has a real impact on the students' performance."
   ]
  },
  {
   "cell_type": "markdown",
   "id": "4942117c-ff95-42af-934d-ada93d5d04b3",
   "metadata": {},
   "source": [
    "#### 2. ANOVA (Analysis of Variance):\n",
    "\n",
    "##### Explanation:\n",
    "\n",
    "ANOVA is like a detective checking if the average scores of three or more groups are really different or if it could just be luck.\n",
    "\n",
    "##### Example:\n",
    "\n",
    "Suppose we have exam scores for three different teaching methods: Method A, Method B, and Method C."
   ]
  },
  {
   "cell_type": "code",
   "execution_count": 4,
   "id": "e66ce827-629a-42ba-82ff-49cbbb295364",
   "metadata": {},
   "outputs": [
    {
     "name": "stdout",
     "output_type": "stream",
     "text": [
      "There is a significant difference between the teaching methods.\n"
     ]
    }
   ],
   "source": [
    "import numpy as np\n",
    "from scipy import stats\n",
    "\n",
    "# Sample data\n",
    "methodA_scores = np.array([75, 80, 85, 90, 78, 82])\n",
    "methodB_scores = np.array([88, 92, 78, 95, 84, 89])\n",
    "methodC_scores = np.array([70, 75, 72, 68, 80, 85])\n",
    "\n",
    "# Perform ANOVA\n",
    "f_stat, p_value = stats.f_oneway(methodA_scores, methodB_scores, methodC_scores)\n",
    "\n",
    "# Interpret results\n",
    "if p_value < 0.05:\n",
    "    print(\"There is a significant difference between the teaching methods.\")\n",
    "else:\n",
    "    print(\"There is no significant difference between the teaching methods.\")\n"
   ]
  },
  {
   "cell_type": "markdown",
   "id": "8c56ba8b-7ee2-48a1-8095-b35778824a3c",
   "metadata": {},
   "source": [
    "In this case, if the p-value is less than 0.05, we would conclude that there is a significant difference between Method A, Method B, and Method C. This means that the average scores are not the same across all three teaching methods."
   ]
  },
  {
   "cell_type": "code",
   "execution_count": null,
   "id": "c0dfc139-c36c-4de2-8564-e35720fce01b",
   "metadata": {},
   "outputs": [],
   "source": []
  }
 ],
 "metadata": {
  "kernelspec": {
   "display_name": "Python 3 (ipykernel)",
   "language": "python",
   "name": "python3"
  },
  "language_info": {
   "codemirror_mode": {
    "name": "ipython",
    "version": 3
   },
   "file_extension": ".py",
   "mimetype": "text/x-python",
   "name": "python",
   "nbconvert_exporter": "python",
   "pygments_lexer": "ipython3",
   "version": "3.11.6"
  }
 },
 "nbformat": 4,
 "nbformat_minor": 5
}
