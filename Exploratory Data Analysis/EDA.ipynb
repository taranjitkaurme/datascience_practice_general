{
 "cells": [
  {
   "cell_type": "markdown",
   "id": "5febfdb9-d740-45df-8ed8-607c18381210",
   "metadata": {},
   "source": [
    "## Data Cleaning"
   ]
  },
  {
   "cell_type": "markdown",
   "id": "9a96dc33-5698-4119-960d-d73eb34f1636",
   "metadata": {},
   "source": [
    "### Fix Rows and Columns"
   ]
  },
  {
   "cell_type": "markdown",
   "id": "3c798bff-7f94-401f-aa4d-4e652bef90e0",
   "metadata": {},
   "source": [
    "Checklist for Fixing Rows\n",
    "\n",
    "* Delete summary rows: Total, subtotal rows\n",
    "* Delete incorrect rows: Header rows, footer rows\n",
    "* Delete extra rows: Column number, indicators, blank rows, page number"
   ]
  },
  {
   "cell_type": "markdown",
   "id": "2a4f42ab-a85c-4afc-a66e-f7917021110a",
   "metadata": {},
   "source": [
    "Checklist for Fixing Columns\n",
    "\n",
    "* Merge columns for creating unique identifiers if needed, e.g., merge state and city details into the full address\n",
    "* Split columns for more data. Split the address to get state and city details so that you can analyse each separately\n",
    "* Add missing column names\n",
    "* Rename columns consistently, with abbreviations and encoded columns\n",
    "* Delete unnecessary columns\n",
    "* Align misaligned columns; the data set might have shifted columns"
   ]
  },
  {
   "cell_type": "markdown",
   "id": "b258ae2f-dea6-4c67-8793-57bdb1801ff3",
   "metadata": {},
   "source": [
    "### Treat Missing Data"
   ]
  },
  {
   "cell_type": "markdown",
   "id": "5cc91c2a-164d-49c2-a01d-bb1c2c80254d",
   "metadata": {},
   "source": [
    "* **Set values as missing values:** Identify values that indicate missing data and are not yet recognised by the software, e.g., treat blank strings, 'NA', 'XX', '99', etc., as missing and replace such data with a blank cell in Excel.\n",
    "\n",
    "* **Adding is good, exaggerating is bad:** You should try to get information from reliable external sources as much as possible; but if you cannot, then it is better to keep the missing values as such rather than exaggerating the existing rows/columns.\n",
    "\n",
    "* **Delete rows, columns:** Delete rows if the number of missing values is insignificant, as this would not impact the analysis. Columns could be removed if the missing values are quite significant in number.\n",
    "\n",
    "* **Fill partial missing value using business judgement:** These include missing time zone, century, etc., as these values are easily identifiable."
   ]
  },
  {
   "cell_type": "markdown",
   "id": "3f7517da-fee7-48df-8219-3e86511634f5",
   "metadata": {},
   "source": [
    "### Standardise Data"
   ]
  },
  {
   "cell_type": "markdown",
   "id": "2ee21314-d327-47a8-8b82-28511fb0ea4f",
   "metadata": {},
   "source": [
    "* **Standardise units:** Ensure that all observations under a variable have a common and consistent unit, e.g., convert lbs to kg, miles/hour to km/hour, etc.\n",
    "\n",
    "* **Scale values if required:** Make sure the observations under a variable have a common scale.\n",
    "\n",
    "* **Standardise precision:** This allows you to present the data better, e.g., 4.5312341 kg to 4.53 kg.\n",
    "\n",
    "* **Remove outliers:** Remove high and low values that would disproportionately affect the results of your analysis."
   ]
  },
  {
   "cell_type": "markdown",
   "id": "1a84cf12-2bfb-466f-81c6-8e5c3564b6d9",
   "metadata": {},
   "source": [
    "* **Remove extra characters:** For example, common prefixes/suffixes, leading/trailing/multiple spaces, etc. These are irrelevant to the analysis.\n",
    "\n",
    "* **Standardise the case:** String variables may take various cases, e.g., UPPERCASE, lowercase, Title Case, Sentence case, etc.\n",
    "\n",
    "* **Standardise the format:** For example, 23/10/16 to 2016/10/23, 'Mi, Mendra' to 'Mendra Mi', etc."
   ]
  },
  {
   "cell_type": "markdown",
   "id": "eda941fa-b1fa-4e75-8410-77dc3abe95ac",
   "metadata": {},
   "source": [
    "### Treat Invalid Data"
   ]
  },
  {
   "cell_type": "markdown",
   "id": "1eea5fa9-82d6-4940-9fc2-3b08ea8ad1ef",
   "metadata": {},
   "source": [
    "* **Convert incorrect data types:** Correct the incorrect data types for ease of analysis. For example, if the numeric values are stored as strings, then it would not be possible to calculate metrics such as mean, median, etc. Some of the common data type corrections include string to number ('12,300' to '12300'), string to date ('2013-Aug' to '2013/08), number to string ('PIN Code 110001' to '110001), etc.\n",
    "* **Correct values that go beyond a range:** If some of the values are beyond the logical range, e.g., temperature less than -273°C (0°K), then you would need to correct them as required. A close look would help you check whether there is scope for correction or whether the value needs to be removed.\n",
    "* **Correct values that are not in the list:** Remove values that do not belong to a list. For example, in a data set containing blood groups of individuals, strings 'E' or 'F' are invalid values and can be removed.\n",
    "* **Correct wrong structure:** Values that do not follow a defined structure can be removed. For example, in a data set containing PIN codes of Indian cities, a PIN code of 12 digits would be an invalid value and needs to be removed. Similarly, a phone number of 12 digits would be an invalid value.\n",
    "* **Validate internal rules:** If there are internal rules, such as the date of a product’s delivery must definitely be after the date of the order, they should be correct and consistent."
   ]
  },
  {
   "cell_type": "markdown",
   "id": "7d6a52c3-048b-4669-996c-988614040af7",
   "metadata": {},
   "source": [
    "### Filter Data"
   ]
  },
  {
   "cell_type": "markdown",
   "id": "04972578-5f9e-45fa-b0fa-a90399458968",
   "metadata": {},
   "source": [
    "* **Deduplicate data:** Remove identical rows, and remove rows where some columns are identical\n",
    "* **Filter rows:** Filter by segment and date period to get only the rows relevant to the analysis\n",
    "* **Filter columns:** Select columns that are relevant to the analysis\n",
    "* **Aggregate data:** Group the data by the required keys and aggregate the rest"
   ]
  },
  {
   "cell_type": "markdown",
   "id": "e54937c9-1133-4a59-852c-cf1014ea38a2",
   "metadata": {},
   "source": [
    "### Case Specific"
   ]
  },
  {
   "cell_type": "markdown",
   "id": "ca356b17-f1ce-48ff-b21f-f39dd9e2fb5f",
   "metadata": {},
   "source": [
    "**Class labeling** is often part of the data preprocessing steps. This may involve converting categorical labels into numerical format (encoding), handling missing labels, or addressing class imbalance.\n",
    "\n",
    "Encoding:\n",
    "\n",
    "Machine learning algorithms typically work with numerical data. Therefore, categorical labels are often encoded into numerical representations. This can be done using techniques like one-hot encoding, label encoding, or other encoding methods.\n",
    "\n",
    "Label Encoding vs. One-Hot Encoding:\n",
    "\n",
    "Label encoding assigns a unique numerical value to each category. For example, \"cat\" might be encoded as 0, \"dog\" as 1, and \"bird\" as 2.\n",
    "One-hot encoding creates binary columns for each category, representing the presence or absence of each category. Each category gets its own column.\n",
    "\n",
    "**Handling Imbalanced Classes:**\n",
    "\n",
    "In some cases, classes in a classification problem may be imbalanced (unequal number of instances per class). Techniques like oversampling, undersampling, or using different evaluation metrics can be employed to address class imbalance.\n",
    "\n",
    "Shuffling data sets\n",
    "\n",
    "**Text Data Minimg**\n",
    "\n",
    "**Data Masking**"
   ]
  },
  {
   "cell_type": "markdown",
   "id": "5c649f64-6141-479c-900d-c7d0b194da7a",
   "metadata": {},
   "source": [
    "## Univariate Analysis"
   ]
  },
  {
   "cell_type": "markdown",
   "id": "0d11c5c6-b319-42db-9069-fd33933cc4ad",
   "metadata": {},
   "source": [
    "### Data Description"
   ]
  },
  {
   "cell_type": "markdown",
   "id": "53d0ecea-c933-431e-af46-9a664b35a019",
   "metadata": {},
   "source": [
    "Types of **Categorical** Variables\n",
    "\n",
    "* **Ordered** variables have some kind of ordering. Some examples of ordered variables are as follows:\n",
    "Salary = High-Medium-Low\n",
    "Month = Jan-Feb-Mar\n",
    "\n",
    "* **Unordered** variables do not have the notion of high-low, more-less, etc. Some examples of unordered variables include the following:\n",
    "Type of loan taken by a person = Home, personal, auto, etc.\n",
    "Organisational role of a person = Sales, marketing, HR, etc.\n",
    "\n",
    "Apart from the two types of categorical variables, the other most common type is **quantitative variables**. These are simply numeric variables, which can be added up, multiplied, divided, etc.; for example, salary,"
   ]
  },
  {
   "cell_type": "markdown",
   "id": "53107f70-c96a-4dbf-ac9f-8fc400c1eaef",
   "metadata": {},
   "source": [
    "**Categorical Variables: Unordered** : **Rank-frequency plots** enable you to extract insight even from seemingly trivial unordered categorical variables such as country, name of an artist, name of a GitHub user, etc.\n",
    "\n",
    "**Ordered Categorical and Continuous Variables** whenever you have a continuous or an ordered categorical variable, make sure you plot a **histogram** or a bar chart, and observe any unexpected trends. aberrations from a normal distribution provided meaningful insights about the data."
   ]
  },
  {
   "cell_type": "markdown",
   "id": "f3c4ade4-04ca-4375-9256-0d43e7b4887d",
   "metadata": {},
   "source": [
    "**Quantitative Variables: Descriptive Statistics**\n",
    "\n",
    "* Mean shows the average of all the values, the median gives a typical value that could be used to represent the entire group. median is almost always a better measure of ‘representativeness’.\n",
    "\n",
    "* Mode is the value that occurs most often in a set of data\n",
    "  \r",
    "* \n",
    "Standard deviation and interquartile difference are both used to represent the spread of the data. The interquartile difference is a much better metric than the standard deviation if there are outliers in the data; this is because the standard deviation will be influenced by outliers, whereas the interquartile difference will simply ignore the\n",
    "  \n",
    "* \r\n",
    "A box plot provides a visual representation of the spread of any data"
   ]
  },
  {
   "cell_type": "markdown",
   "id": "28c2ad19-be59-4327-8373-b9b58ae4ba47",
   "metadata": {},
   "source": [
    "**Segmented Univariate Analysis**\n",
    "\n",
    "* Take raw data\n",
    "\n",
    "* Group it by dimension\n",
    "\n",
    "* Summarise using a relevant metric such as mean, median, etc.\n",
    "\n",
    "* Compare the aggregated metric across groups/categories"
   ]
  },
  {
   "cell_type": "markdown",
   "id": "85a5b1e1-0238-4043-b1da-cc9a5d547f41",
   "metadata": {},
   "source": [
    "\"Don’t blindly believe in the averages of the buckets — you need to observe the distribution of each bucket closely and ask yourself if the difference in means is significant enough to draw a conclusion. If the difference in means is small, you may not be able to draw inferences. In such cases, a technique called hypothesis testing is used to ascertain whether the difference in means is significant or due to randomness\". Don’t worry if you do not understand the concept of hypothesis correctly. It will be dealt with separately in the module on hypothesis."
   ]
  },
  {
   "cell_type": "markdown",
   "id": "8e76865b-a0c4-449c-abec-5546ea9a729d",
   "metadata": {},
   "source": [
    "Let's summarise what you learnt:\n",
    "\n",
    "Metadata description describes the data in a structured manner. You should make a habit of creating a metadata description for whatever data set you are working on. Not only will it serve as a reference point for you but it will also help other people understand the data better and thus save time.\n",
    "\n",
    "Distribution plots reveal interesting insights about data. You can observe various visible patterns in the plots and try to understand how they came to be.\n",
    "\n",
    "Summary metrics are used to obtain a quantitative summary of the data. Not all metrics can be used everywhere. Thus, it is important to understand the data and then choose what metric to use to summarise the data.\n",
    "Segmented analaysis of data to draw additional insights. The steps involved are to first, establish the basis of segmentation, then segment the said data and finally analyse the results. "
   ]
  },
  {
   "cell_type": "markdown",
   "id": "ac4b038b-e1d4-4da8-9cb0-165a42b2f1ad",
   "metadata": {},
   "source": [
    "## Bivariate Analysis"
   ]
  },
  {
   "cell_type": "markdown",
   "id": "31c37fde-adbd-4121-bef5-d6ea95e2b76e",
   "metadata": {},
   "source": [
    "**Correlation** is a number between -1 and 1 that quantifies the extent to which two variables ‘correlate’ with each other:\n",
    "\n",
    "* If one variable increases with increase of the other, the correlation is positive.\n",
    "* If one variable decreases with increase of the other, the correlation is negative.\n",
    "* If one variable stays constant as the other varies, the correlation is zero."
   ]
  },
  {
   "cell_type": "markdown",
   "id": "727dea2e-10c0-463c-b4df-0d546cfc9c53",
   "metadata": {},
   "source": [
    "**Correlation Matrix** can also be used"
   ]
  },
  {
   "cell_type": "markdown",
   "id": "83151ba5-c020-4b99-aa96-376b400c0162",
   "metadata": {},
   "source": [
    "## Derived Metrics"
   ]
  },
  {
   "cell_type": "markdown",
   "id": "4c2b6c30-1b27-41d9-8683-c39dde15f2fa",
   "metadata": {},
   "source": [
    "Derived metrics are of three types:\n",
    "\n",
    "* Type-driven metrics\n",
    "* Business-driven metrics\n",
    "* Data-driven metrics"
   ]
  },
  {
   "cell_type": "code",
   "execution_count": null,
   "id": "736311f4-1a4c-4d92-b344-734dc50546c4",
   "metadata": {},
   "outputs": [],
   "source": []
  },
  {
   "cell_type": "code",
   "execution_count": null,
   "id": "601e047e-6caf-456b-a8a3-b1c96ab6645d",
   "metadata": {},
   "outputs": [],
   "source": []
  }
 ],
 "metadata": {
  "kernelspec": {
   "display_name": "Python 3 (ipykernel)",
   "language": "python",
   "name": "python3"
  },
  "language_info": {
   "codemirror_mode": {
    "name": "ipython",
    "version": 3
   },
   "file_extension": ".py",
   "mimetype": "text/x-python",
   "name": "python",
   "nbconvert_exporter": "python",
   "pygments_lexer": "ipython3",
   "version": "3.11.6"
  }
 },
 "nbformat": 4,
 "nbformat_minor": 5
}
