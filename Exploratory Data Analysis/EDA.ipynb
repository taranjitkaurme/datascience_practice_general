{
 "cells": [
  {
   "cell_type": "markdown",
   "id": "5febfdb9-d740-45df-8ed8-607c18381210",
   "metadata": {},
   "source": [
    "## Data Cleaning"
   ]
  },
  {
   "cell_type": "markdown",
   "id": "9a96dc33-5698-4119-960d-d73eb34f1636",
   "metadata": {},
   "source": [
    "### Fix Rows and Columns"
   ]
  },
  {
   "cell_type": "markdown",
   "id": "3c798bff-7f94-401f-aa4d-4e652bef90e0",
   "metadata": {},
   "source": [
    "Checklist for Fixing Rows\n",
    "\n",
    "* Delete summary rows: Total, subtotal rows\n",
    "* Delete incorrect rows: Header rows, footer rows\n",
    "* Delete extra rows: Column number, indicators, blank rows, page number"
   ]
  },
  {
   "cell_type": "markdown",
   "id": "2a4f42ab-a85c-4afc-a66e-f7917021110a",
   "metadata": {},
   "source": [
    "Checklist for Fixing Columns\n",
    "\n",
    "* Merge columns for creating unique identifiers if needed, e.g., merge state and city details into the full address\n",
    "* Split columns for more data. Split the address to get state and city details so that you can analyse each separately\n",
    "* Add missing column names\n",
    "* Rename columns consistently, with abbreviations and encoded columns\n",
    "* Delete unnecessary columns\n",
    "* Align misaligned columns; the data set might have shifted columns"
   ]
  },
  {
   "cell_type": "markdown",
   "id": "b258ae2f-dea6-4c67-8793-57bdb1801ff3",
   "metadata": {},
   "source": [
    "### Treat Missing Data"
   ]
  },
  {
   "cell_type": "markdown",
   "id": "5cc91c2a-164d-49c2-a01d-bb1c2c80254d",
   "metadata": {},
   "source": [
    "* **Set values as missing values:** Identify values that indicate missing data and are not yet recognised by the software, e.g., treat blank strings, 'NA', 'XX', '99', etc., as missing and replace such data with a blank cell in Excel.\n",
    "\n",
    "* **Adding is good, exaggerating is bad:** You should try to get information from reliable external sources as much as possible; but if you cannot, then it is better to keep the missing values as such rather than exaggerating the existing rows/columns.\n",
    "\n",
    "* **Delete rows, columns:** Delete rows if the number of missing values is insignificant, as this would not impact the analysis. Columns could be removed if the missing values are quite significant in number.\n",
    "\n",
    "* **Fill partial missing value using business judgement:** These include missing time zone, century, etc., as these values are easily identifiable."
   ]
  },
  {
   "cell_type": "markdown",
   "id": "3f7517da-fee7-48df-8219-3e86511634f5",
   "metadata": {},
   "source": [
    "### Standardise Data"
   ]
  },
  {
   "cell_type": "markdown",
   "id": "2ee21314-d327-47a8-8b82-28511fb0ea4f",
   "metadata": {},
   "source": [
    "* **Standardise units:** Ensure that all observations under a variable have a common and consistent unit, e.g., convert lbs to kg, miles/hour to km/hour, etc.\n",
    "\n",
    "* **Scale values if required:** Make sure the observations under a variable have a common scale.\n",
    "\n",
    "* **Standardise precision:** This allows you to present the data better, e.g., 4.5312341 kg to 4.53 kg.\n",
    "\n",
    "* **Remove outliers:** Remove high and low values that would disproportionately affect the results of your analysis."
   ]
  },
  {
   "cell_type": "markdown",
   "id": "1a84cf12-2bfb-466f-81c6-8e5c3564b6d9",
   "metadata": {},
   "source": [
    "* **Remove extra characters:** For example, common prefixes/suffixes, leading/trailing/multiple spaces, etc. These are irrelevant to the analysis.\n",
    "\n",
    "* **Standardise the case:** String variables may take various cases, e.g., UPPERCASE, lowercase, Title Case, Sentence case, etc.\n",
    "\n",
    "* **Standardise the format:** For example, 23/10/16 to 2016/10/23, 'Mi, Mendra' to 'Mendra Mi', etc."
   ]
  },
  {
   "cell_type": "markdown",
   "id": "eda941fa-b1fa-4e75-8410-77dc3abe95ac",
   "metadata": {},
   "source": [
    "### Treat Invalid Data"
   ]
  },
  {
   "cell_type": "markdown",
   "id": "1eea5fa9-82d6-4940-9fc2-3b08ea8ad1ef",
   "metadata": {},
   "source": [
    "* **Convert incorrect data types:** Correct the incorrect data types for ease of analysis. For example, if the numeric values are stored as strings, then it would not be possible to calculate metrics such as mean, median, etc. Some of the common data type corrections include string to number ('12,300' to '12300'), string to date ('2013-Aug' to '2013/08), number to string ('PIN Code 110001' to '110001), etc.\n",
    "* **Correct values that go beyond a range:** If some of the values are beyond the logical range, e.g., temperature less than -273°C (0°K), then you would need to correct them as required. A close look would help you check whether there is scope for correction or whether the value needs to be removed.\n",
    "* **Correct values that are not in the list:** Remove values that do not belong to a list. For example, in a data set containing blood groups of individuals, strings 'E' or 'F' are invalid values and can be removed.\n",
    "* **Correct wrong structure:** Values that do not follow a defined structure can be removed. For example, in a data set containing PIN codes of Indian cities, a PIN code of 12 digits would be an invalid value and needs to be removed. Similarly, a phone number of 12 digits would be an invalid value.\n",
    "* **Validate internal rules:** If there are internal rules, such as the date of a product’s delivery must definitely be after the date of the order, they should be correct and consistent."
   ]
  },
  {
   "cell_type": "markdown",
   "id": "7d6a52c3-048b-4669-996c-988614040af7",
   "metadata": {},
   "source": [
    "### Filter Data"
   ]
  },
  {
   "cell_type": "markdown",
   "id": "04972578-5f9e-45fa-b0fa-a90399458968",
   "metadata": {},
   "source": [
    "* **Deduplicate data:** Remove identical rows, and remove rows where some columns are identical\n",
    "* **Filter rows:** Filter by segment and date period to get only the rows relevant to the analysis\n",
    "* **Filter columns:** Select columns that are relevant to the analysis\n",
    "* **Aggregate data:** Group the data by the required keys and aggregate the rest"
   ]
  },
  {
   "cell_type": "markdown",
   "id": "5c649f64-6141-479c-900d-c7d0b194da7a",
   "metadata": {},
   "source": [
    "## Univariate Analysis"
   ]
  },
  {
   "cell_type": "markdown",
   "id": "0d11c5c6-b319-42db-9069-fd33933cc4ad",
   "metadata": {},
   "source": [
    "### Data Description"
   ]
  },
  {
   "cell_type": "markdown",
   "id": "53d0ecea-c933-431e-af46-9a664b35a019",
   "metadata": {},
   "source": [
    "Types of **Categorical** Variables\n",
    "\n",
    "* **Ordered** variables have some kind of ordering. Some examples of ordered variables are as follows:\n",
    "Salary = High-Medium-Low\n",
    "Month = Jan-Feb-Mar\n",
    "\n",
    "* **Unordered** variables do not have the notion of high-low, more-less, etc. Some examples of unordered variables include the following:\n",
    "Type of loan taken by a person = Home, personal, auto, etc.\n",
    "Organisational role of a person = Sales, marketing, HR, etc.\n",
    "\n",
    "Apart from the two types of categorical variables, the other most common type is **quantitative variables**. These are simply numeric variables, which can be added up, multiplied, divided, etc.; for example, salary,"
   ]
  },
  {
   "cell_type": "markdown",
   "id": "53107f70-c96a-4dbf-ac9f-8fc400c1eaef",
   "metadata": {},
   "source": [
    "**Categorical Variables: Unordered** : **Rank-frequency plots** enable you to extract insight even from seemingly trivial unordered categorical variables such as country, name of an artist, name of a GitHub user, etc.\n",
    "\n",
    "**Ordered Categorical and Continuous Variables** whenever you have a continuous or an ordered categorical variable, make sure you plot a **histogram** or a bar chart, and observe any unexpected trends. aberrations from a normal distribution provided meaningful insights about the data."
   ]
  },
  {
   "cell_type": "markdown",
   "id": "f3c4ade4-04ca-4375-9256-0d43e7b4887d",
   "metadata": {},
   "source": [
    "**Quantitative Variables: Descriptive Statistics**\n",
    "\n",
    "* Mean shows the average of all the values, the median gives a typical value that could be used to represent the entire group. median is almost always a better measure of ‘representativeness’.\n",
    "\n",
    "* Mode is the value that occurs most often in a set of data\n",
    "  \r",
    "* \n",
    "Standard deviation and interquartile difference are both used to represent the spread of the data. The interquartile difference is a much better metric than the standard deviation if there are outliers in the data; this is because the standard deviation will be influenced by outliers, whereas the interquartile difference will simply ignore the\n",
    "  \n",
    "* \r\n",
    "A box plot provides a visual representation of the spread of any data"
   ]
  },
  {
   "cell_type": "markdown",
   "id": "28c2ad19-be59-4327-8373-b9b58ae4ba47",
   "metadata": {},
   "source": [
    "**Segmented Univariate Analysis**\n",
    "\n",
    "* Take raw data\n",
    "\n",
    "* Group it by dimension\n",
    "\n",
    "* Summarise using a relevant metric such as mean, median, etc.\n",
    "\n",
    "* Compare the aggregated metric across groups/categories"
   ]
  },
  {
   "cell_type": "markdown",
   "id": "85a5b1e1-0238-4043-b1da-cc9a5d547f41",
   "metadata": {},
   "source": []
  }
 ],
 "metadata": {
  "kernelspec": {
   "display_name": "Python 3 (ipykernel)",
   "language": "python",
   "name": "python3"
  },
  "language_info": {
   "codemirror_mode": {
    "name": "ipython",
    "version": 3
   },
   "file_extension": ".py",
   "mimetype": "text/x-python",
   "name": "python",
   "nbconvert_exporter": "python",
   "pygments_lexer": "ipython3",
   "version": "3.11.6"
  }
 },
 "nbformat": 4,
 "nbformat_minor": 5
}
